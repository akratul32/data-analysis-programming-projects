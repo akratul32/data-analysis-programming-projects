{
 "cells": [
  {
   "cell_type": "code",
   "execution_count": 3,
   "id": "f171da5f",
   "metadata": {},
   "outputs": [
    {
     "name": "stdout",
     "output_type": "stream",
     "text": [
      "Enter row number5\n",
      "* \n",
      "* * * \n",
      "* * * * * \n",
      "* * * * * * * \n",
      "* * * * * * * * * \n"
     ]
    }
   ],
   "source": [
    "n = int(input(\"Enter row number\"))\n",
    "\n",
    "k=1\n",
    "\n",
    "for i in range(1,n+1):\n",
    "    for j in range(1,k+1):\n",
    "        print(\"*\", end = \" \")\n",
    "    \n",
    "    k = k+2\n",
    "    print()\n",
    "   \n",
    "        \n",
    "\n"
   ]
  },
  {
   "cell_type": "code",
   "execution_count": 14,
   "id": "1e7635b6",
   "metadata": {
    "scrolled": true
   },
   "outputs": [
    {
     "name": "stdout",
     "output_type": "stream",
     "text": [
      "Enter row number3\n",
      " * \n",
      "* * * \n",
      "* * * * * \n"
     ]
    }
   ],
   "source": [
    "n = int(input(\"Enter row number\"))\n",
    "\n",
    "k=1\n",
    "\n",
    "for i in range(0,n):\n",
    "    for j in range (1,n-i-1):\n",
    "        print(end = \" \")\n",
    "    for j in range(1,k+1):\n",
    "        print(\"*\", end = \" \")\n",
    "    \n",
    "    k = k+2\n",
    "    print()\n",
    "   \n",
    "        \n"
   ]
  },
  {
   "cell_type": "code",
   "execution_count": 6,
   "id": "b9ee18db",
   "metadata": {},
   "outputs": [
    {
     "name": "stdout",
     "output_type": "stream",
     "text": [
      "Enter row no: 3\n",
      "  * \n",
      " * * \n",
      "* * * \n"
     ]
    }
   ],
   "source": [
    "num = int(input(\"Enter row no: \"))\n",
    "\n",
    "for i in range(0,num):\n",
    "    for j in range(0,num-i-1):\n",
    "        print(end = \" \")\n",
    "        \n",
    "    for j in range(0,i+1):\n",
    "        print(\"*\", end = \" \")    \n",
    "        \n",
    "    print()"
   ]
  },
  {
   "cell_type": "code",
   "execution_count": 22,
   "id": "c979f637",
   "metadata": {},
   "outputs": [
    {
     "name": "stdout",
     "output_type": "stream",
     "text": [
      "Enter row no: 5\n",
      "* * * * * \n",
      " * * * * \n",
      "  * * * \n",
      "   * * \n",
      "    * \n"
     ]
    }
   ],
   "source": [
    "num = int(input(\"Enter row no: \"))\n",
    "\n",
    "for i in range(num,0,-1):\n",
    "    for j in range(0,num-i):\n",
    "        print(end = \" \")\n",
    "        \n",
    "    for j in range(0,i):\n",
    "        print(\"*\", end = \" \")    \n",
    "        \n",
    "    print()"
   ]
  },
  {
   "cell_type": "code",
   "execution_count": 35,
   "id": "8f5abd05",
   "metadata": {},
   "outputs": [
    {
     "name": "stdout",
     "output_type": "stream",
     "text": [
      "   * \n",
      "  * * \n",
      " * * * \n",
      "* * * * \n",
      "* * * * \n",
      " * * * \n",
      "  * * \n",
      "   * \n"
     ]
    }
   ],
   "source": [
    "def pyramid(rows):\n",
    "    \n",
    "\n",
    "    for i in range(rows):\n",
    "        print(\" \"*(rows-i-1)+\"* \"*(i+1))\n",
    "    for j in range(rows,0,-1):\n",
    "        \n",
    "        print(\" \"*(rows-j)+\"* \"*j)\n",
    "        \n",
    "        \n",
    "\n",
    " \n",
    "pyramid(4)"
   ]
  },
  {
   "cell_type": "code",
   "execution_count": 42,
   "id": "93d1cd4f",
   "metadata": {},
   "outputs": [
    {
     "name": "stdout",
     "output_type": "stream",
     "text": [
      "Enter row numer: 5\n",
      "1 \n",
      "2 2 \n",
      "3 3 3 \n",
      "4 4 4 4 \n",
      "5 5 5 5 5 \n"
     ]
    }
   ],
   "source": [
    "#Exercise 8: Print the following pattern\n",
    "#1 \n",
    "#2 2 \n",
    "#3 3 3 \n",
    "#4 4 4 4 \n",
    "#5 5 5 5 5\n",
    "\n",
    "num_rows = int(input(\"Enter row numer: \"))\n",
    "\n",
    "for i in range(1,num_rows+1):\n",
    "    print((str(i)+\" \")*i)\n",
    "    \n",
    "\n"
   ]
  },
  {
   "cell_type": "code",
   "execution_count": 57,
   "id": "ce3c39c6",
   "metadata": {},
   "outputs": [
    {
     "name": "stdout",
     "output_type": "stream",
     "text": [
      "enter number 121\n",
      "False , Reverse number =  121\n"
     ]
    }
   ],
   "source": [
    "#Exercise 9: Reverse a given number and return true if it is the same as the original number\n",
    "\n",
    "original_num = int(input(\"enter number \"))\n",
    "revers_num = 0\n",
    "\n",
    "while original_num > 0:\n",
    "    \n",
    "    revers_num =(revers_num*10 + original_num%10)\n",
    "    \n",
    "    original_num = original_num//10\n",
    "\n",
    "if (revers_num == original_num):\n",
    "    print(\"True\",\", Reverse number = \",revers_num)\n",
    "else:\n",
    "    print(\"False\",\", Reverse number = \",revers_num)\n",
    "    \n",
    "\n",
    "\n"
   ]
  },
  {
   "cell_type": "code",
   "execution_count": 55,
   "id": "295faec9",
   "metadata": {},
   "outputs": [
    {
     "name": "stdout",
     "output_type": "stream",
     "text": [
      "original number 121\n",
      "The original and reverse number is the same: True\n"
     ]
    }
   ],
   "source": [
    "def reverseCheck(number):\n",
    "    print(\"original number\", number)\n",
    "    originalNum = number\n",
    "    reverseNum = 0\n",
    "    while (number > 0):\n",
    "        reminder = number % 10\n",
    "        reverseNum = (reverseNum * 10) + reminder\n",
    "        number = number // 10\n",
    "    if (originalNum == reverseNum):\n",
    "        return True\n",
    "    else:\n",
    "        return False\n",
    "\n",
    "print(\"The original and reverse number is the same:\", reverseCheck(121))"
   ]
  },
  {
   "cell_type": "code",
   "execution_count": 69,
   "id": "d01751cd",
   "metadata": {},
   "outputs": [
    {
     "name": "stdout",
     "output_type": "stream",
     "text": [
      "Enter the Number of elements in list_1: 3\n",
      "Enter elements = 1\n",
      "Enter elements = 2\n",
      "Enter elements = 3\n",
      "List 1 is:  [1, 2, 3]\n",
      "Enter the Number of elements in list_1: 3\n",
      "Enter elements = 4\n",
      "Enter elements = 5\n",
      "Enter elements = 6\n",
      "List 2 is:  [4, 5, 6]\n",
      "new list=  [1, 3, 4, 6]\n"
     ]
    }
   ],
   "source": [
    "#Exercise 10: Given a two list of numbers create a new list such that \n",
    "#new list should contain only odd numbers from the first list and even numbers from the second list\n",
    "#Expected Output:\n",
    "\n",
    "#list1 =  [10, 20, 23, 11, 17]\n",
    "#list 2 = [13, 43, 24, 36, 12]\n",
    "\n",
    "#result List is [23, 11, 17, 24, 36, 12]\n",
    "\n",
    "\n",
    "import ast\n",
    "\n",
    "list_1 = []\n",
    "list_2 = []\n",
    "n1 = int(input(\"Enter the Number of elements in list_1: \"))\n",
    "for i in range(n1):\n",
    "    elements = ast.literal_eval(input(\"Enter elements = \"))\n",
    "    list_1.append(elements)\n",
    "          \n",
    "print(\"List 1 is: \",list_1)\n",
    "          \n",
    "n2 = int(input(\"Enter the Number of elements in list_1: \"))\n",
    "for i in range(n2):\n",
    "    elements = ast.literal_eval(input(\"Enter elements = \"))\n",
    "    list_2.append(elements)\n",
    "print(\"List 2 is: \",list_2)\n",
    "list_1_odd = []\n",
    "for j in list_1:\n",
    "    if j%2!=0:\n",
    "        list_1_odd.append(j)\n",
    "    \n",
    "\n",
    "list_2_even = []\n",
    "for j in list_2:\n",
    "    if j%2==0:\n",
    "        list_2_even.append(j)\n",
    "    \n",
    "\n",
    "print(\"new list= \", list_1_odd + list_2_even) \n",
    "    "
   ]
  },
  {
   "cell_type": "code",
   "execution_count": null,
   "id": "d5d297c9",
   "metadata": {},
   "outputs": [],
   "source": []
  }
 ],
 "metadata": {
  "kernelspec": {
   "display_name": "Python 3",
   "language": "python",
   "name": "python3"
  },
  "language_info": {
   "codemirror_mode": {
    "name": "ipython",
    "version": 3
   },
   "file_extension": ".py",
   "mimetype": "text/x-python",
   "name": "python",
   "nbconvert_exporter": "python",
   "pygments_lexer": "ipython3",
   "version": "3.8.8"
  }
 },
 "nbformat": 4,
 "nbformat_minor": 5
}
