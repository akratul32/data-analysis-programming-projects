{
 "cells": [
  {
   "cell_type": "code",
   "execution_count": 1,
   "id": "87a94493-5e2c-4711-b2d0-87512afe192c",
   "metadata": {},
   "outputs": [
    {
     "name": "stdout",
     "output_type": "stream",
     "text": [
      "Dear user welcome to my page. Here you can Input any message and findout any letter count you want\n"
     ]
    }
   ],
   "source": [
    "print(\"Dear user welcome to my page. Here you can Input any message and findout any letter count you want and the percentage of that letter compared to your message\")\n"
   ]
  },
  {
   "cell_type": "code",
   "execution_count": null,
   "id": "b135dae9-2a50-4c23-8808-59c4d2e76891",
   "metadata": {},
   "outputs": [],
   "source": [
    "user_message = input(\"Please enter your message here\")"
   ]
  },
  {
   "cell_type": "code",
   "execution_count": null,
   "id": "038c1a91-5ffa-49ec-829b-524f2d8c2bad",
   "metadata": {},
   "outputs": [],
   "source": [
    "user_letter = input(\"Please enter your letter here\")"
   ]
  },
  {
   "cell_type": "code",
   "execution_count": null,
   "id": "6b8ccc23-7694-4ba0-b5e4-7179b5eaec0f",
   "metadata": {},
   "outputs": [],
   "source": []
  }
 ],
 "metadata": {
  "kernelspec": {
   "display_name": "Python 3",
   "language": "python",
   "name": "python3"
  },
  "language_info": {
   "codemirror_mode": {
    "name": "ipython",
    "version": 3
   },
   "file_extension": ".py",
   "mimetype": "text/x-python",
   "name": "python",
   "nbconvert_exporter": "python",
   "pygments_lexer": "ipython3",
   "version": "3.8.8"
  }
 },
 "nbformat": 4,
 "nbformat_minor": 5
}
