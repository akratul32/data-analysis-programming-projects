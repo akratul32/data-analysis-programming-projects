{
 "cells": [
  {
   "cell_type": "code",
   "execution_count": 15,
   "id": "506e4881",
   "metadata": {},
   "outputs": [
    {
     "name": "stdout",
     "output_type": "stream",
     "text": [
      "[[49106 47672]\n",
      " [10888  8035]\n",
      " [52493 53027]\n",
      " [18024 44146]]\n",
      "(4, 2)\n",
      "2\n",
      "2\n"
     ]
    }
   ],
   "source": [
    "# Exercise 1: Create a 4X2 integer array and Prints its attributes\n",
    "# Note: The element must be a type of unsigned int16. And print the following Attributes: –\n",
    "# The shape of an array.\n",
    "# Array dimensions.\n",
    "# The Length of each element of the array in bytes.\n",
    "\n",
    "\n",
    "import numpy as np\n",
    "a =np.empty([4,2],dtype = np.uint16)\n",
    "\n",
    "print(a)\n",
    "print(a.shape)\n",
    "print(a.ndim)\n",
    "print(a.itemsize)\n"
   ]
  },
  {
   "cell_type": "code",
   "execution_count": null,
   "id": "6ee6d9ae",
   "metadata": {},
   "outputs": [],
   "source": []
  }
 ],
 "metadata": {
  "kernelspec": {
   "display_name": "Python 3",
   "language": "python",
   "name": "python3"
  },
  "language_info": {
   "codemirror_mode": {
    "name": "ipython",
    "version": 3
   },
   "file_extension": ".py",
   "mimetype": "text/x-python",
   "name": "python",
   "nbconvert_exporter": "python",
   "pygments_lexer": "ipython3",
   "version": "3.8.8"
  }
 },
 "nbformat": 4,
 "nbformat_minor": 5
}
