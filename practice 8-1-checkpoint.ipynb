{
 "cells": [
  {
   "cell_type": "code",
   "execution_count": 18,
   "id": "81d65144",
   "metadata": {},
   "outputs": [
    {
     "name": "stdout",
     "output_type": "stream",
     "text": [
      "1 2 3 4 5 6 7 8 9 10 \n",
      "2 4 6 8 10 12 14 16 18 20 \n",
      "3 6 9 12 15 18 21 24 27 30 \n",
      "4 8 12 16 20 24 28 32 36 40 \n",
      "5 10 15 20 25 30 35 40 45 50 \n",
      "6 12 18 24 30 36 42 48 54 60 \n",
      "7 14 21 28 35 42 49 56 63 70 \n",
      "8 16 24 32 40 48 56 64 72 80 \n",
      "9 18 27 36 45 54 63 72 81 90 \n",
      "10 20 30 40 50 60 70 80 90 100 \n"
     ]
    }
   ],
   "source": [
    "# Exercise 13: Print multiplication table form 1 to 10\n",
    "num=11\n",
    "for i in range(1,num):\n",
    "    for j in range(1,num):\n",
    "        print(i*j, end = \" \") \n",
    "\n",
    "    print()\n",
    "    \n",
    "\n",
    "num=3\n"
   ]
  },
  {
   "cell_type": "code",
   "execution_count": 24,
   "id": "cd459b7e",
   "metadata": {},
   "outputs": [
    {
     "name": "stdout",
     "output_type": "stream",
     "text": [
      "Enter number of rows5\n",
      "* * * * * \n",
      "* * * * \n",
      "* * * \n",
      "* * \n",
      "* \n"
     ]
    }
   ],
   "source": [
    "# Print downward Half-Pyramid Pattern with Star (asterisk)\n",
    "# * * * * *  \n",
    "# * * * *  \n",
    "# * * *  \n",
    "# * *  \n",
    "# *\n",
    "rows = int(input(\"Enter number of rows\"))\n",
    "\n",
    "for i in range(rows+1,1,-1):\n",
    "    for j in range(1,i):\n",
    "        print(\"*\",end=\" \")\n",
    "    print()    \n",
    "    \n"
   ]
  },
  {
   "cell_type": "code",
   "execution_count": null,
   "id": "3efdc828",
   "metadata": {},
   "outputs": [],
   "source": [
    "# Exercise 15: Write a function called exponent(base, exp) that returns an int value of base raises to the power of exp.\n",
    "# Note here exp is a non-negative integer, and the base is an integer.\n",
    "\n",
    "# Expected output\n",
    "\n",
    "# Case 1:\n",
    "# base = 2\n",
    "# exponent = 5\n",
    "# 2 raises to the power of 5: 32 i.e. (2 *2 * 2 *2 *2 = 32)\n",
    "\n",
    "# Case 2:\n",
    "# base = 5\n",
    "# exponent = 4\n",
    "# 5 raises to the power of 4 is: 625 \n",
    "# # i.e. (5 *5 * 5 *5 = 625)\n",
    "\n",
    "def exponent(base,exp):\n",
    "    result\n"
   ]
  },
  {
   "cell_type": "code",
   "execution_count": 36,
   "id": "996dd33a",
   "metadata": {},
   "outputs": [
    {
     "name": "stdout",
     "output_type": "stream",
     "text": [
      "10\n"
     ]
    }
   ],
   "source": [
    "print(\"%o\" % (8))"
   ]
  },
  {
   "cell_type": "code",
   "execution_count": 38,
   "id": "8f94dfae",
   "metadata": {},
   "outputs": [
    {
     "name": "stdout",
     "output_type": "stream",
     "text": [
      "Enter the list size : 5\n",
      "Enter number at location 2 :\n",
      "5.2\n",
      "Enter number at location 2 :\n",
      "2.2\n",
      "Enter number at location 2 :\n",
      "3.2\n",
      "Enter number at location 2 :\n",
      "5\n",
      "Enter number at location 2 :\n",
      "6\n",
      "User List is  [5.2, 2.2, 3.2, 5.0, 6.0]\n"
     ]
    }
   ],
   "source": [
    "floatNumbers = []\n",
    "n = int(input(\"Enter the list size : \"))\n",
    "\n",
    "\n",
    "while n>0:\n",
    "    print(\"Enter number at location\", \":\")\n",
    "    item = float(input())\n",
    "    floatNumbers.append(item)\n",
    "    n=n-1\n",
    "    \n",
    "print(\"User List is \", floatNumbers)"
   ]
  },
  {
   "cell_type": "code",
   "execution_count": null,
   "id": "eeca3fef",
   "metadata": {},
   "outputs": [],
   "source": []
  }
 ],
 "metadata": {
  "kernelspec": {
   "display_name": "Python 3",
   "language": "python",
   "name": "python3"
  },
  "language_info": {
   "codemirror_mode": {
    "name": "ipython",
    "version": 3
   },
   "file_extension": ".py",
   "mimetype": "text/x-python",
   "name": "python",
   "nbconvert_exporter": "python",
   "pygments_lexer": "ipython3",
   "version": "3.8.8"
  }
 },
 "nbformat": 4,
 "nbformat_minor": 5
}
