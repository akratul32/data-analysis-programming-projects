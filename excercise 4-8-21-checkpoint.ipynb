{
 "cells": [
  {
   "cell_type": "code",
   "execution_count": 7,
   "id": "6df4223a",
   "metadata": {},
   "outputs": [
    {
     "name": "stdout",
     "output_type": "stream",
     "text": [
      "Enter the number of elemnts in your list3\n",
      "Enter number as element =  10\n",
      "Enter number as element =  21\n",
      "Enter number as element =  150\n",
      "Your list is:  [10, 21, 150]\n",
      "numbers divisible by five are \n",
      "10\n",
      "150\n"
     ]
    }
   ],
   "source": [
    "# Exercise 5: Given a list, iterate it, and display numbers divisible by five, and if you find a number greater than 150, stop the loop iteration.\n",
    "# list1 = [12, 15, 32, 42, 55, 75, 122, 132, 150, 180, 200]\n",
    "\n",
    "\n",
    "\n",
    "num_element = int(input(\"Enter the number of elemnts in your list\"))\n",
    "\n",
    "list_1 = []\n",
    "for i in range(0,num_element):\n",
    "    element = int(input(\"Enter number as element =  \"))\n",
    "    list_1.append(element)\n",
    "\n",
    "print(\"Your list is: \",list_1) \n",
    "print(\"numbers divisible by five are \")\n",
    "for i in list_1:\n",
    "    \n",
    "    if i>150:\n",
    "        break\n",
    "    if i%5==0:\n",
    "        print(i)\n",
    "    \n",
    "    "
   ]
  },
  {
   "cell_type": "code",
   "execution_count": 16,
   "id": "292743e8",
   "metadata": {},
   "outputs": [
    {
     "name": "stdout",
     "output_type": "stream",
     "text": [
      "Enter number of rows = 5\n",
      "5 4 3 2 1 \n",
      "4 3 2 1 \n",
      "3 2 1 \n",
      "2 1 \n",
      "1 \n"
     ]
    }
   ],
   "source": [
    "# Print the following pattern using for loop\n",
    "# 5 4 3 2 1 \n",
    "# 4 3 2 1 \n",
    "# 3 2 1 \n",
    "# 2 1 \n",
    "# 1\n",
    "\n",
    "num_rows = int(input(\"Enter number of rows = \"))\n",
    "\n",
    "for i in range(num_rows,0,-1):\n",
    "    for j in range(i,0,-1):\n",
    "        print(j, end=\" \")\n",
    "    print()\n",
    "\n"
   ]
  },
  {
   "cell_type": "code",
   "execution_count": 35,
   "id": "4d6d3f01",
   "metadata": {},
   "outputs": [
    {
     "name": "stdout",
     "output_type": "stream",
     "text": [
      "50\n",
      "40\n",
      "30\n",
      "20\n",
      "10\n"
     ]
    }
   ],
   "source": [
    "# Exercise 8: Reverse the following list using for loop\n",
    "# list1 = [10, 20, 30, 40, 50]\n",
    "\n",
    "list1 = [10, 20, 30, 40, 50]\n",
    "list1_rev = []\n",
    "for i in range(len(list1)-1,-1,-1):\n",
    "    print(list1[i])\n",
    "\n",
    "        "
   ]
  },
  {
   "cell_type": "code",
   "execution_count": 36,
   "id": "30ec1d19",
   "metadata": {},
   "outputs": [
    {
     "name": "stdout",
     "output_type": "stream",
     "text": [
      "[50, 40, 30, 20, 10]\n"
     ]
    }
   ],
   "source": [
    "list1 = [10, 20, 30, 40, 50]\n",
    "print(list1[::-1])"
   ]
  },
  {
   "cell_type": "code",
   "execution_count": 38,
   "id": "5147174e",
   "metadata": {},
   "outputs": [
    {
     "name": "stdout",
     "output_type": "stream",
     "text": [
      "-10\n",
      "-9\n",
      "-8\n",
      "-7\n",
      "-6\n",
      "-5\n",
      "-4\n",
      "-3\n",
      "-2\n",
      "-1\n"
     ]
    }
   ],
   "source": [
    "# Exercise 9: Display numbers from -10 to -1 using for loop\n",
    "# Expected output:\n",
    "\n",
    "# -10\n",
    "# -9\n",
    "# -8\n",
    "# -7\n",
    "# -6\n",
    "# -5\n",
    "# -4\n",
    "# -3\n",
    "# -2\n",
    "# -1\n",
    "\n",
    "\n",
    "for i in range(-10,0,1):\n",
    "    print(i)\n"
   ]
  },
  {
   "cell_type": "code",
   "execution_count": 45,
   "id": "fdc886a0",
   "metadata": {},
   "outputs": [
    {
     "name": "stdout",
     "output_type": "stream",
     "text": [
      "start =  1\n",
      "End = 100\n",
      "prime numbers within 1 to 100 are\n",
      "2\n",
      "3\n",
      "5\n",
      "7\n",
      "11\n",
      "13\n",
      "17\n",
      "19\n",
      "23\n",
      "29\n",
      "31\n",
      "37\n",
      "41\n",
      "43\n",
      "47\n",
      "53\n",
      "59\n",
      "61\n",
      "67\n",
      "71\n",
      "73\n",
      "79\n",
      "83\n",
      "89\n",
      "97\n"
     ]
    }
   ],
   "source": [
    "# Exercise 11: Write a program to display all prime numbers within a range\n",
    "\n",
    "start = int(input(\"start =  \"))\n",
    "end = int(input(\"End = \"))\n",
    "\n",
    "print(\"prime numbers within\",start,\"to\",end,\"are\")\n",
    "for i in range(start,end+1):\n",
    "    if i>1:\n",
    "        for j in range(2,i):\n",
    "            if (i%j) ==0:\n",
    "                break\n",
    "        else:\n",
    "            print(i) \n",
    "    "
   ]
  },
  {
   "cell_type": "code",
   "execution_count": 66,
   "id": "c242f211",
   "metadata": {},
   "outputs": [
    {
     "name": "stdout",
     "output_type": "stream",
     "text": [
      "Enter number  = 1\n",
      "0\n",
      "1\n"
     ]
    }
   ],
   "source": [
    "# Exercise 12: Display Fibonacci series up to 10 terms\n",
    "num = int(input(\"Enter number  = \"))\n",
    "\n",
    "a=0\n",
    "b=1\n",
    "print(a)\n",
    "print(b)\n",
    "for i in range(2,num):\n",
    "    c=a+b\n",
    "    a=b\n",
    "    b=c\n",
    "    print(c)\n",
    "\n",
    "\n"
   ]
  },
  {
   "cell_type": "code",
   "execution_count": 57,
   "id": "0210dce9",
   "metadata": {},
   "outputs": [
    {
     "name": "stdout",
     "output_type": "stream",
     "text": [
      "Enter number  = 10\n",
      "sum of all number from 1 to 10 is = 55\n"
     ]
    }
   ],
   "source": [
    "# Exercise 3: Accept number from user and calculate the sum of all number from 1 to a given number\n",
    "# For example, if user entered 10 the output should be 55.\n",
    "def sum_num_all(num):\n",
    "    sum = 0\n",
    "    for i in range(1,num+1):\n",
    "        sum = sum+i\n",
    "    print(\"sum of all number from 1 to\",num,\"is =\",sum) \n",
    "    \n",
    "\n",
    "\n",
    "num = int(input(\"Enter number  = \"))\n",
    "\n",
    "sum_num_all(num)\n"
   ]
  },
  {
   "cell_type": "code",
   "execution_count": 59,
   "id": "9099ab9d",
   "metadata": {},
   "outputs": [
    {
     "name": "stdout",
     "output_type": "stream",
     "text": [
      "Enter number  = 3\n",
      "multiplication table of 3 is\n",
      "3\n",
      "6\n",
      "9\n",
      "12\n",
      "15\n",
      "18\n",
      "21\n",
      "24\n",
      "27\n",
      "30\n"
     ]
    }
   ],
   "source": [
    "# Exercise 4: Print multiplication table of a given number\n",
    "# For example, num = 2 so the output should be\n",
    "# 2\n",
    "# 4\n",
    "# 6\n",
    "# 8\n",
    "# 10\n",
    "# 12\n",
    "# 14\n",
    "# 16\n",
    "# 18\n",
    "# 20\n",
    "\n",
    "num = int(input(\"Enter number  = \"))\n",
    "print(\"multiplication table of\",num,\"is\")\n",
    "for i in range(1,11):\n",
    "    multi = i*num\n",
    "    print(multi)\n",
    "    \n"
   ]
  },
  {
   "cell_type": "code",
   "execution_count": 60,
   "id": "19e1acb2",
   "metadata": {},
   "outputs": [
    {
     "name": "stdout",
     "output_type": "stream",
     "text": [
      "multiplication table of 5 is\n",
      "5\n",
      "10\n",
      "15\n",
      "20\n",
      "25\n",
      "30\n",
      "35\n",
      "40\n",
      "45\n",
      "50\n"
     ]
    }
   ],
   "source": [
    "def multiplication_table(num):\n",
    "    print(\"multiplication table of\",num,\"is\")\n",
    "    for i in range(1,11):\n",
    "        multi = i*num\n",
    "        print(multi)\n",
    "\n",
    "multiplication_table(5)        "
   ]
  },
  {
   "cell_type": "code",
   "execution_count": null,
   "id": "fede17d0",
   "metadata": {},
   "outputs": [],
   "source": []
  }
 ],
 "metadata": {
  "kernelspec": {
   "display_name": "Python 3",
   "language": "python",
   "name": "python3"
  },
  "language_info": {
   "codemirror_mode": {
    "name": "ipython",
    "version": 3
   },
   "file_extension": ".py",
   "mimetype": "text/x-python",
   "name": "python",
   "nbconvert_exporter": "python",
   "pygments_lexer": "ipython3",
   "version": "3.8.8"
  }
 },
 "nbformat": 4,
 "nbformat_minor": 5
}
