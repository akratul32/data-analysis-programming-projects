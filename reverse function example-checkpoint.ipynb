{
 "cells": [
  {
   "cell_type": "code",
   "execution_count": 1,
   "id": "5abcb48f",
   "metadata": {},
   "outputs": [
    {
     "name": "stdout",
     "output_type": "stream",
     "text": [
      "Enter string here abcd\n",
      "Your string is -  abcd\n",
      "Reverse sting is-  dcba\n"
     ]
    }
   ],
   "source": [
    "#function for reversing string\n",
    "\n",
    "def reverse_st(string):\n",
    "    reverse_string = \"\"\n",
    "    for i in string:\n",
    "        reverse_string = i+reverse_string\n",
    "    print(\"Reverse sting is- \",reverse_string)     \n",
    "        \n",
    "   \n",
    "string = input(\"Enter string here \")\n",
    "\n",
    "print(\"Your string is - \",string)\n",
    "\n",
    "reverse_st(string)\n",
    "\n"
   ]
  },
  {
   "cell_type": "code",
   "execution_count": 2,
   "id": "b91cdd9b",
   "metadata": {},
   "outputs": [
    {
     "name": "stdout",
     "output_type": "stream",
     "text": [
      "Enter number here  1234\n",
      "Your number is -  1234\n",
      "Reverse number is -  4321\n"
     ]
    }
   ],
   "source": [
    "#function for reversing number\n",
    "\n",
    "def reverse_num(number):\n",
    "    reverse_num = 0\n",
    "    while number>0:\n",
    "        reminder = number%10\n",
    "        reverse_num =10*reverse_num +reminder\n",
    "        number = number//10\n",
    "    print(\"Reverse number is - \",reverse_num)\n",
    "\n",
    "number = int(input(\"Enter number here  \"))\n",
    "\n",
    "print(\"Your number is - \",number)\n",
    "\n",
    "reverse_num(number)\n",
    "    \n",
    "        "
   ]
  },
  {
   "cell_type": "code",
   "execution_count": 5,
   "id": "77da576c",
   "metadata": {},
   "outputs": [
    {
     "name": "stdout",
     "output_type": "stream",
     "text": [
      "Enter Your number here: 1234\n",
      "Your number is -  1234\n",
      "4\n",
      "3\n",
      "2\n",
      "1\n"
     ]
    }
   ],
   "source": [
    "#Exercise 11: Write a code to extract each digit from an integer, in the reverse order\n",
    "#Expected Output:\n",
    "#If the given int is 7536, the output shall be “6 3 5 7“, with a space separating the digits\n",
    "\n",
    "\n",
    "def extract_digit_rev(number):\n",
    "    while number>0:\n",
    "        output = number%10\n",
    "        number = number//10\n",
    "        print(output,end= \" \")\n",
    "    \n",
    "\n",
    "number = int(input(\"Enter Your number here: \"))    \n",
    "    \n",
    "print(\"Your number is - \",number)\n",
    "\n",
    "extract_digit_rev(number)\n",
    "    \n",
    "    \n",
    "    \n"
   ]
  },
  {
   "cell_type": "code",
   "execution_count": null,
   "id": "fb1a7d14",
   "metadata": {},
   "outputs": [],
   "source": []
  }
 ],
 "metadata": {
  "kernelspec": {
   "display_name": "Python 3",
   "language": "python",
   "name": "python3"
  },
  "language_info": {
   "codemirror_mode": {
    "name": "ipython",
    "version": 3
   },
   "file_extension": ".py",
   "mimetype": "text/x-python",
   "name": "python",
   "nbconvert_exporter": "python",
   "pygments_lexer": "ipython3",
   "version": "3.8.8"
  }
 },
 "nbformat": 4,
 "nbformat_minor": 5
}
